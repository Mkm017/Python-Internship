{
 "cells": [
  {
   "cell_type": "markdown",
   "id": "f59f95d7",
   "metadata": {},
   "source": [
    "1.Print Reverse Number Pyramid"
   ]
  },
  {
   "cell_type": "code",
   "execution_count": 1,
   "id": "aa0186a1",
   "metadata": {},
   "outputs": [
    {
     "name": "stdout",
     "output_type": "stream",
     "text": [
      "54321\n",
      "5432\n",
      "543\n",
      "54\n",
      "5\n"
     ]
    }
   ],
   "source": [
    "n = int(input(\"Enter a number: \"))\n",
    "\n",
    "for i in range(n):\n",
    "    for j in range(n, i, -1):\n",
    "        print(j, end='')\n",
    "    print()\n"
   ]
  },
  {
   "cell_type": "markdown",
   "id": "f825f89e",
   "metadata": {},
   "source": [
    " 2.Sum of Digits Until Single Digit"
   ]
  },
  {
   "cell_type": "code",
   "execution_count": 2,
   "id": "7c1aa683",
   "metadata": {},
   "outputs": [
    {
     "name": "stdout",
     "output_type": "stream",
     "text": [
      "Single digit sum is: 2\n"
     ]
    }
   ],
   "source": [
    "num = int(input(\"Enter a number: \"))\n",
    "\n",
    "while num >= 10:\n",
    "    sum_of_digits = 0\n",
    "    while num > 0:\n",
    "        sum_of_digits += num % 10\n",
    "        num //= 10\n",
    "    num = sum_of_digits\n",
    "\n",
    "print(\"Single digit sum is:\", num)\n"
   ]
  },
  {
   "cell_type": "markdown",
   "id": "0b5b108f",
   "metadata": {},
   "source": [
    "3. Check for a Special 2-Digit Number"
   ]
  },
  {
   "cell_type": "code",
   "execution_count": 3,
   "id": "1e3cc0e0",
   "metadata": {},
   "outputs": [
    {
     "name": "stdout",
     "output_type": "stream",
     "text": [
      "False — Not a special 2-digit number.\n"
     ]
    }
   ],
   "source": [
    "num = int(input(\"Enter a 2-digit number: \"))\n",
    "\n",
    "if num < 10 or num > 99:\n",
    "    print(\"Please enter a valid 2-digit number.\")\n",
    "else:\n",
    "    first_digit = num // 10\n",
    "    second_digit = num % 10\n",
    "\n",
    "    result = (first_digit * second_digit) + (first_digit + second_digit)\n",
    "\n",
    "    if result == num:\n",
    "        print(\"True — It’s a special 2-digit number.\")\n",
    "    else:\n",
    "        print(\"False — Not a special 2-digit number.\")\n"
   ]
  },
  {
   "cell_type": "markdown",
   "id": "0166460d",
   "metadata": {},
   "source": [
    "4. Count the Number of Even Digits and Odd Digit"
   ]
  },
  {
   "cell_type": "code",
   "execution_count": 4,
   "id": "5fee8d7d",
   "metadata": {},
   "outputs": [
    {
     "name": "stdout",
     "output_type": "stream",
     "text": [
      "Even: 0\n",
      "Odd: 1\n"
     ]
    }
   ],
   "source": [
    "num = int(input(\"Enter a number: \"))\n",
    "\n",
    "even_count = 0\n",
    "odd_count = 0\n",
    "\n",
    "while num > 0:\n",
    "    digit = num % 10\n",
    "    if digit % 2 == 0:\n",
    "        even_count += 1\n",
    "    else:\n",
    "        odd_count += 1\n",
    "    num //= 10\n",
    "\n",
    "print(\"Even:\", even_count)\n",
    "print(\"Odd:\", odd_count)\n"
   ]
  },
  {
   "cell_type": "markdown",
   "id": "ec8028a8",
   "metadata": {},
   "source": [
    " 5. Armstrong Number Checker (3-digit)"
   ]
  },
  {
   "cell_type": "code",
   "execution_count": 5,
   "id": "99d08feb",
   "metadata": {},
   "outputs": [
    {
     "name": "stdout",
     "output_type": "stream",
     "text": [
      "Not Armstrong\n"
     ]
    }
   ],
   "source": [
    "num = int(input(\"Enter a 3-digit number: \"))\n",
    "original = num\n",
    "sum_cubes = 0\n",
    "\n",
    "while num > 0:\n",
    "    digit = num % 10\n",
    "    sum_cubes += digit ** 3\n",
    "    num //= 10\n",
    "\n",
    "if sum_cubes == original:\n",
    "    print(\"Armstrong\")\n",
    "else:\n",
    "    print(\"Not Armstrong\")\n"
   ]
  },
  {
   "cell_type": "markdown",
   "id": "962b5594",
   "metadata": {},
   "source": [
    "6. Find the Largest Digit in a Number"
   ]
  },
  {
   "cell_type": "code",
   "execution_count": 6,
   "id": "16459403",
   "metadata": {},
   "outputs": [
    {
     "name": "stdout",
     "output_type": "stream",
     "text": [
      "Largest digit is: 6\n"
     ]
    }
   ],
   "source": [
    "num = int(input(\"Enter a number: \"))\n",
    "largest = 0\n",
    "\n",
    "while num > 0:\n",
    "    digit = num % 10\n",
    "    if digit > largest:\n",
    "        largest = digit\n",
    "    num //= 10\n",
    "\n",
    "print(\"Largest digit is:\", largest)\n"
   ]
  },
  {
   "cell_type": "markdown",
   "id": "1890cf65",
   "metadata": {},
   "source": [
    "7. Create a Pattern Without Using Array"
   ]
  },
  {
   "cell_type": "code",
   "execution_count": 8,
   "id": "1841def4",
   "metadata": {},
   "outputs": [
    {
     "name": "stdout",
     "output_type": "stream",
     "text": [
      "1\n",
      "12\n",
      "123\n",
      "1234\n",
      "12345\n",
      "123456\n",
      "1234567\n",
      "12345678\n",
      "123456789\n",
      "12345678910\n"
     ]
    }
   ],
   "source": [
    "n = int(input(\"Enter a number: \"))\n",
    "\n",
    "for i in range(1, n+1):\n",
    "    for j in range(1, i+1):\n",
    "        print(j, end='')\n",
    "    print()\n"
   ]
  },
  {
   "cell_type": "markdown",
   "id": "7188023b",
   "metadata": {},
   "source": [
    " 8. Find First Digit of a Number"
   ]
  },
  {
   "cell_type": "code",
   "execution_count": 9,
   "id": "f86abfea",
   "metadata": {},
   "outputs": [
    {
     "name": "stdout",
     "output_type": "stream",
     "text": [
      "First digit is: 3\n"
     ]
    }
   ],
   "source": [
    "num = int(input(\"Enter a number: \"))\n",
    "\n",
    "while num >= 10:\n",
    "    num //= 10\n",
    "\n",
    "print(\"First digit is:\", num)\n"
   ]
  },
  {
   "cell_type": "markdown",
   "id": "0a54cdfc",
   "metadata": {},
   "source": [
    " 9. Palindrome Number Checker"
   ]
  },
  {
   "cell_type": "code",
   "execution_count": 10,
   "id": "aa89e707",
   "metadata": {},
   "outputs": [
    {
     "name": "stdout",
     "output_type": "stream",
     "text": [
      "Not Palindrome\n"
     ]
    }
   ],
   "source": [
    "num = int(input(\"Enter a number: \"))\n",
    "original = num\n",
    "reverse = 0\n",
    "\n",
    "while num > 0:\n",
    "    reverse = reverse * 10 + num % 10\n",
    "    num //= 10\n",
    "\n",
    "if reverse == original:\n",
    "    print(\"Palindrome\")\n",
    "else:\n",
    "    print(\"Not Palindrome\")\n"
   ]
  },
  {
   "cell_type": "markdown",
   "id": "c3cc971c",
   "metadata": {},
   "source": [
    " 10. Count the Number of Factors (excluding arrays)"
   ]
  },
  {
   "cell_type": "code",
   "execution_count": 11,
   "id": "a62fc25f",
   "metadata": {},
   "outputs": [
    {
     "name": "stdout",
     "output_type": "stream",
     "text": [
      "Number of factors: 2\n"
     ]
    }
   ],
   "source": [
    "num = int(input(\"Enter a number: \"))\n",
    "count = 0\n",
    "\n",
    "for i in range(1, num+1):\n",
    "    if num % i == 0:\n",
    "        count += 1\n",
    "\n",
    "print(\"Number of factors:\", count)\n"
   ]
  },
  {
   "cell_type": "markdown",
   "id": "9d58aa72",
   "metadata": {},
   "source": [
    "11. Print Number Pyramid with Powers"
   ]
  },
  {
   "cell_type": "code",
   "execution_count": 13,
   "id": "552554af",
   "metadata": {},
   "outputs": [
    {
     "name": "stdout",
     "output_type": "stream",
     "text": [
      "1 \n",
      "1 2 \n",
      "1 2 4 \n",
      "1 2 4 8 \n",
      "1 2 4 8 16 \n",
      "1 2 4 8 16 32 \n",
      "1 2 4 8 16 32 64 \n",
      "1 2 4 8 16 32 64 128 \n",
      "1 2 4 8 16 32 64 128 256 \n",
      "1 2 4 8 16 32 64 128 256 512 \n",
      "1 2 4 8 16 32 64 128 256 512 1024 \n",
      "1 2 4 8 16 32 64 128 256 512 1024 2048 \n",
      "1 2 4 8 16 32 64 128 256 512 1024 2048 4096 \n",
      "1 2 4 8 16 32 64 128 256 512 1024 2048 4096 8192 \n",
      "1 2 4 8 16 32 64 128 256 512 1024 2048 4096 8192 16384 \n"
     ]
    }
   ],
   "source": [
    "n = int(input(\"Enter a number: \"))\n",
    "\n",
    "for i in range(1, n+1):\n",
    "    value = 1\n",
    "    for j in range(1, i+1):\n",
    "        print(value, end=' ')\n",
    "        value *= 2\n",
    "    print()\n"
   ]
  },
  {
   "cell_type": "markdown",
   "id": "c2c7baa6",
   "metadata": {},
   "source": [
    "12. Print All Prime Numbers from 1 to N"
   ]
  },
  {
   "cell_type": "code",
   "execution_count": 14,
   "id": "65ac870b",
   "metadata": {},
   "outputs": [
    {
     "name": "stdout",
     "output_type": "stream",
     "text": [
      "2 3 5 7 11 13 17 19 "
     ]
    }
   ],
   "source": [
    "n = int(input(\"Enter a number: \"))\n",
    "\n",
    "for num in range(2, n+1):\n",
    "    is_prime = True\n",
    "    for i in range(2, int(num**0.5)+1):\n",
    "        if num % i == 0:\n",
    "            is_prime = False\n",
    "            break\n",
    "    if is_prime:\n",
    "        print(num, end=' ')\n"
   ]
  },
  {
   "cell_type": "markdown",
   "id": "440953a8",
   "metadata": {},
   "source": [
    "13. Number is a Harshad Number"
   ]
  },
  {
   "cell_type": "code",
   "execution_count": 15,
   "id": "86973f16",
   "metadata": {},
   "outputs": [
    {
     "name": "stdout",
     "output_type": "stream",
     "text": [
      "No — Not a Harshad Number\n"
     ]
    }
   ],
   "source": [
    "num = int(input(\"Enter a number: \"))\n",
    "temp = num\n",
    "digit_sum = 0\n",
    "\n",
    "while num > 0:\n",
    "    digit_sum += num % 10\n",
    "    num //= 10\n",
    "\n",
    "if temp % digit_sum == 0:\n",
    "    print(\"Yes — Harshad Number\")\n",
    "else:\n",
    "    print(\"No — Not a Harshad Number\")\n"
   ]
  },
  {
   "cell_type": "markdown",
   "id": "e0e8f991",
   "metadata": {},
   "source": [
    " 14. Check if Digits Are in Increasing Order"
   ]
  },
  {
   "cell_type": "code",
   "execution_count": 16,
   "id": "084706a0",
   "metadata": {},
   "outputs": [
    {
     "name": "stdout",
     "output_type": "stream",
     "text": [
      "Yes — Increasing Order\n"
     ]
    }
   ],
   "source": [
    "num = int(input(\"Enter a number: \"))\n",
    "last_digit = 10  # Greater than any single digit\n",
    "is_increasing = True\n",
    "\n",
    "while num > 0:\n",
    "    current_digit = num % 10\n",
    "    if current_digit >= last_digit:\n",
    "        is_increasing = False\n",
    "        break\n",
    "    last_digit = current_digit\n",
    "    num //= 10\n",
    "\n",
    "if is_increasing:\n",
    "    print(\"Yes — Increasing Order\")\n",
    "else:\n",
    "    print(\"No — Not in Increasing Order\")\n"
   ]
  },
  {
   "cell_type": "markdown",
   "id": "d27d5aa3",
   "metadata": {},
   "source": [
    "15. Find the N-th Digit from the Right"
   ]
  },
  {
   "cell_type": "code",
   "execution_count": 17,
   "id": "1823ec65",
   "metadata": {},
   "outputs": [
    {
     "name": "stdout",
     "output_type": "stream",
     "text": [
      "8-th digit from right is: 0\n"
     ]
    }
   ],
   "source": [
    "num = int(input(\"Enter the number: \"))\n",
    "n = int(input(\"Enter position from right: \"))\n",
    "\n",
    "for i in range(n-1):\n",
    "    num //= 10\n",
    "\n",
    "digit = num % 10\n",
    "print(f\"{n}-th digit from right is: {digit}\")\n"
   ]
  }
 ],
 "metadata": {
  "kernelspec": {
   "display_name": "Python 3",
   "language": "python",
   "name": "python3"
  },
  "language_info": {
   "codemirror_mode": {
    "name": "ipython",
    "version": 3
   },
   "file_extension": ".py",
   "mimetype": "text/x-python",
   "name": "python",
   "nbconvert_exporter": "python",
   "pygments_lexer": "ipython3",
   "version": "3.12.0"
  }
 },
 "nbformat": 4,
 "nbformat_minor": 5
}
